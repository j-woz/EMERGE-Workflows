{
 "cells": [
  {
   "cell_type": "code",
   "execution_count": 5,
   "id": "6765e994",
   "metadata": {},
   "outputs": [],
   "source": [
    "import os\n",
    "\n",
    "# Edit this to place the new inputs:\n",
    "expt_input_dir = \"../expt-inputs-001\"\n",
    "os.makedirs(expt_input_dir, exist_ok=True)\n",
    "\n",
    "# Edit this to set the input template.  This is the bulk of the inputs file.\n",
    "default_f_base = \"input_8_v2\"\n",
    "default_f = f\"../data-sets/{default_f_base}.bay\"\n",
    "default_f_output = \"output_8_v2\"\n",
    "\n",
    "# Edit this to point to your data directory\n",
    "data_directory = \"/global/cfs/cdirs/m5071/sfw/ExaEpi-mpich/data\"\n",
    "census_file = \"CensusData/BayArea.dat\"\n",
    "workflow_file = \"CensusData/BayArea-wf.bin\"\n",
    "case_file = \"CaseData/Feb1.cases\"\n",
    "\n",
    "# These are the parameter combinations that we are setting uniquely for each run\n",
    "#       looped over by the loops below and ultimately by the workflow:\n",
    "dyn_params = [\"agent.seed\", \"disease.p_trans\"]\n",
    "\n",
    "# Edit this to point to the  that you want to use\n",
    "census_line = f'agent.census_filename = {data_directory}/{census_file}\\n'\n",
    "agent_workerflow_line= f'agent.workerflow_filename = {data_directory}/{workflow_file}\\n'\n",
    "disease_case_line = f'disease.case_filename = {data_directory}/{case_file}\\n'\n",
    "\n",
    "line_params = [\"agent.census_filename\", \"agent.workerflow_filename\", \"disease.case_filename\"]\n",
    "\n",
    "lines = [census_line, agent_workerflow_line, disease_case_line]\n",
    "with open(default_f) as fin:\n",
    "    for line in fin:\n",
    "        idx = line.find(\"=\")\n",
    "        if idx != -1 and not line.startswith(\"#\"):\n",
    "            param = line[:idx].strip()\n",
    "            if param not in dyn_params and param not in line_params:\n",
    "                lines.append(line)\n",
    "\n",
    "with open(expt_input_dir + \"/input_map.csv\", \"w\") as mout:\n",
    "    mout.write(\"fname,seed,p_trans\\n\")\n",
    "    i = 1\n",
    "    for seed in range(1, 51):\n",
    "        for p_trans in [0.0001, 0.00015, 0.0002, 0.00025, 0.0003, 0.00035, 0.0004, 0.00045, 0.0005, 0.00055]:\n",
    "            fname = f\"{default_f_base}_{i}.bay\"\n",
    "            fpath = os.path.join(expt_input_dir, fname)\n",
    "            output_fname = f\"{default_f_output}_{i}.dat\"\n",
    "            mout.write(f\"{fname},{seed},{p_trans}\\n\")\n",
    "            with open(fpath, \"w\") as iout:\n",
    "                iout.writelines(lines)\n",
    "                iout.write(f\"agent.seed = {seed}\\n\")\n",
    "                iout.write(f\"disease.p_trans = {p_trans}\\n\")\n",
    "                iout.write(f\"diag.output_filename = {output_fname}\\n\")\n",
    "            \n",
    "            i += 1\n"
   ]
  }
 ],
 "metadata": {
  "kernelspec": {
   "display_name": "Python 3",
   "language": "python",
   "name": "python3"
  },
  "language_info": {
   "codemirror_mode": {
    "name": "ipython",
    "version": 3
   },
   "file_extension": ".py",
   "mimetype": "text/x-python",
   "name": "python",
   "nbconvert_exporter": "python",
   "pygments_lexer": "ipython3",
   "version": "3.11.13"
  }
 },
 "nbformat": 4,
 "nbformat_minor": 5
}
