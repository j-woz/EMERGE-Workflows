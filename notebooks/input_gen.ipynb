{
 "cells": [
  {
   "cell_type": "code",
   "execution_count": null,
   "id": "6765e994",
   "metadata": {},
   "outputs": [],
   "source": [
    "default_f = \"../data-sets/input_8_v2.bay\"\n",
    "dyn_params = [\"agent.seed\", \"disease.p_trans\"]\n",
    "\n",
    "lines = []\n",
    "with open(default_f) as fin:\n",
    "    for line in fin:\n",
    "        idx = line.find(\"=\")\n",
    "        if idx != -1:\n",
    "            param = line[:idx].strip()\n",
    "            if param not in dyn_params:\n",
    "                lines.append(line)\n",
    "\n",
    "with open(\"input_map.csv\", \"w\") as mout:\n",
    "    mout.write(\"fname,seed,p_trans\\n\")\n",
    "    i = 1\n",
    "    for seed in range(1, 51):\n",
    "        for p_trans in [0.0001, 0.00015, 0.0002, 0.00025, 0.0003, 0.00035, 0.0004, 0.00045, 0.0005, 0.00055]:\n",
    "            fname = f\"input_8_v2_{i}.bay\"\n",
    "            mout.write(f\"{fname},{seed},{p_trans}\\n\")\n",
    "            with open(fname, \"w\") as iout:\n",
    "                iout.writelines(lines)\n",
    "                iout.write(f\"agent.seed = {seed}\\n\")\n",
    "                iout.write(f\"disease.p_trans = {p_trans}\\n\")\n",
    "            \n",
    "            i += 1\n"
   ]
  }
 ],
 "metadata": {
  "kernelspec": {
   "display_name": "Python 3",
   "language": "python",
   "name": "python3"
  },
  "language_info": {
   "codemirror_mode": {
    "name": "ipython",
    "version": 3
   },
   "file_extension": ".py",
   "mimetype": "text/x-python",
   "name": "python",
   "nbconvert_exporter": "python",
   "pygments_lexer": "ipython3",
   "version": "3.11.13"
  }
 },
 "nbformat": 4,
 "nbformat_minor": 5
}
