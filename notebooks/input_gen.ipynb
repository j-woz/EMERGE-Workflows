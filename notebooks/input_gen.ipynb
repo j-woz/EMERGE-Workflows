{
 "cells": [
  {
   "cell_type": "code",
   "execution_count": null,
   "id": "6765e994",
   "metadata": {},
   "outputs": [],
   "source": [
    "import os\n",
    "\n",
    "# Edit this to place the new inputs:\n",
    "expt_input_dir = \"../expt-inputs-001\"\n",
    "os.makedirs(expt_input_dir, exist_ok=True)\n",
    "\n",
    "# Edit this to set the input template.  This is the bulk of the inputs file.\n",
    "default_f_base = \"input_8_v2\"\n",
    "default_f = f\"../data-sets/{default_f_base}.bay\"\n",
    "default_f_output = \"output_8_v2\"\n",
    "\n",
    "# These are the parameter combinations that we are setting uniquely for each run\n",
    "#       looped over by the loops below and ultimately by the workflow:\n",
    "dyn_params = [\"agent.seed\", \"disease.p_trans\"]\n",
    "\n",
    "# Edit this to point to the census filename that you want to use\n",
    "census_line = 'agent.census_filename = \"../data-sets/BayArea.dat\"\\n'\n",
    "\n",
    "lines = [census_line]\n",
    "with open(default_f) as fin:\n",
    "    for line in fin:\n",
    "        idx = line.find(\"=\")\n",
    "        if idx != -1:\n",
    "            param = line[:idx].strip()\n",
    "            if param not in dyn_params and param != \"agent.census_filename\":\n",
    "                lines.append(line)\n",
    "\n",
    "with open(expt_input_dir + \"/input_map.csv\", \"w\") as mout:\n",
    "    mout.write(\"fname,seed,p_trans\\n\")\n",
    "    i = 1\n",
    "    for seed in range(1, 51):\n",
    "        for p_trans in [0.0001, 0.00015, 0.0002, 0.00025, 0.0003, 0.00035, 0.0004, 0.00045, 0.0005, 0.00055]:\n",
    "            fname = expt_input_dir + f\"{default_f_base}_{i}.bay\"\n",
    "            output_fname = f\"{default_f_output}_{i}.dat\"\n",
    "            mout.write(f\"{fname},{seed},{p_trans}\\n\")\n",
    "            with open(fname, \"w\") as iout:\n",
    "                iout.writelines(lines)\n",
    "                iout.write(f\"agent.seed = {seed}\\n\")\n",
    "                iout.write(f\"disease.p_trans = {p_trans}\\n\")\n",
    "                iout.write(f\"diag.output_filename = {output_fname}\\n\")\n",
    "            \n",
    "            i += 1\n"
   ]
  }
 ],
 "metadata": {
  "kernelspec": {
   "display_name": "Python 3 (ipykernel)",
   "language": "python",
   "name": "python3"
  },
  "language_info": {
   "codemirror_mode": {
    "name": "ipython",
    "version": 3
   },
   "file_extension": ".py",
   "mimetype": "text/x-python",
   "name": "python",
   "nbconvert_exporter": "python",
   "pygments_lexer": "ipython3",
   "version": "3.9.15"
  }
 },
 "nbformat": 4,
 "nbformat_minor": 5
}
